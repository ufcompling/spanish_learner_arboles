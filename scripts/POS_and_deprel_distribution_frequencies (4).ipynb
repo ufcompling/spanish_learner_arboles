{
 "cells": [
  {
   "cell_type": "code",
   "execution_count": 1,
   "id": "075947e3-7871-4f1d-872d-b47f8d06d073",
   "metadata": {},
   "outputs": [
    {
     "name": "stdout",
     "output_type": "stream",
     "text": [
      "Collecting conllu\n",
      "  Downloading conllu-6.0.0-py3-none-any.whl.metadata (21 kB)\n",
      "Downloading conllu-6.0.0-py3-none-any.whl (16 kB)\n",
      "Installing collected packages: conllu\n",
      "Successfully installed conllu-6.0.0\n",
      "Note: you may need to restart the kernel to use updated packages.\n"
     ]
    }
   ],
   "source": [
    "#comment out once installed\n",
    "#pip install conllu"
   ]
  },
  {
   "cell_type": "code",
   "execution_count": 4,
   "id": "5ed5b880-1170-4ee8-bdc8-b401640103c1",
   "metadata": {},
   "outputs": [
    {
     "name": "stdout",
     "output_type": "stream",
     "text": [
      "POS tag frequencies:\n",
      "NOUN: 1107\n",
      "VERB: 907\n",
      "DET: 897\n",
      "ADP: 766\n",
      "PUNCT: 602\n",
      "PRON: 527\n",
      "ADV: 443\n",
      "ADJ: 326\n",
      "AUX: 305\n",
      "CCONJ: 282\n",
      "SCONJ: 244\n",
      "PROPN: 153\n",
      "NUM: 39\n",
      "INTJ: 2\n",
      "SYM: 2\n",
      "PART: 2\n",
      "\n",
      "Dependency label frequencies:\n",
      "det: 908\n",
      "case: 648\n",
      "punct: 602\n",
      "obj: 450\n",
      "advmod: 437\n",
      "root: 383\n",
      "obl: 356\n",
      "nsubj: 349\n",
      "mark: 334\n",
      "conj: 303\n",
      "cc: 282\n",
      "nmod: 184\n",
      "amod: 174\n",
      "advcl: 155\n",
      "xcomp: 154\n",
      "cop: 154\n",
      "aux: 120\n",
      "ccomp: 88\n",
      "obl:arg: 86\n",
      "expl:pv: 86\n",
      "acl: 81\n",
      "fixed: 45\n",
      "obl:tmod: 42\n",
      "csubj: 39\n",
      "flat: 39\n",
      "acl:relcl: 26\n",
      "nummod: 22\n",
      "appos: 17\n",
      "parataxis: 8\n",
      "nsubj:pass: 7\n",
      "aux:pass: 6\n",
      "expl:pass: 4\n",
      "compound: 4\n",
      "nsubj:outer: 2\n",
      "iobj: 2\n",
      "expl: 2\n",
      "dep: 2\n",
      "discourse: 1\n",
      "expl:impers: 1\n",
      "obl:agent: 1\n"
     ]
    }
   ],
   "source": [
    "import os\n",
    "from conllu import parse_incr\n",
    "from collections import Counter\n",
    "\n",
    "folder_path = \"/Users/emi/Desktop/spanish_learner_arboles-main/annotated_essays\"\n",
    "\n",
    "#counters for the POS tags and the deprel labels\n",
    "pos_counter = Counter()\n",
    "dep_counter = Counter()\n",
    "\n",
    "#loop through each conllu file in the annotated_essays folder\n",
    "for filename in os.listdir(folder_path):\n",
    "    if filename.endswith(\".conllu\"):\n",
    "        file_path = os.path.join(folder_path, filename)\n",
    "        with open(file_path, \"r\", encoding=\"utf-8\") as f:\n",
    "            for tokenlist in parse_incr(f):\n",
    "                for token in tokenlist:\n",
    "                    if isinstance(token[\"id\"], int):  #skip multiword tokens\n",
    "                        pos_counter[token[\"upostag\"]] += 1\n",
    "                        label = token[\"deprel\"].lower()\n",
    "                        dep_counter[label] += 1\n",
    "\n",
    "print(\"POS tag frequencies:\")\n",
    "for tag, count in pos_counter.most_common():\n",
    "    print(f\"{tag}: {count}\")\n",
    "\n",
    "print(\"\\nDependency label frequencies:\")\n",
    "for dep, count in dep_counter.most_common():\n",
    "    print(f\"{dep}: {count}\")"
   ]
  },
  {
   "cell_type": "code",
   "execution_count": null,
   "id": "dca90c27-a10a-4ef3-ae66-8c66ab97b092",
   "metadata": {},
   "outputs": [],
   "source": []
  }
 ],
 "metadata": {
  "kernelspec": {
   "display_name": "Python 3 (ipykernel)",
   "language": "python",
   "name": "python3"
  },
  "language_info": {
   "codemirror_mode": {
    "name": "ipython",
    "version": 3
   },
   "file_extension": ".py",
   "mimetype": "text/x-python",
   "name": "python",
   "nbconvert_exporter": "python",
   "pygments_lexer": "ipython3",
   "version": "3.12.4"
  }
 },
 "nbformat": 4,
 "nbformat_minor": 5
}
